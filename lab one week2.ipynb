{
  "nbformat": 4,
  "nbformat_minor": 0,
  "metadata": {
    "colab": {
      "provenance": []
    },
    "kernelspec": {
      "name": "python3",
      "display_name": "Python 3"
    },
    "language_info": {
      "name": "python"
    }
  },
  "cells": [
    {
      "cell_type": "markdown",
      "source": [
        " lab one week 2"
      ],
      "metadata": {
        "id": "9nQP0yM8Y6d5"
      }
    },
    {
      "cell_type": "code",
      "source": [
        "print (\"edit the kilometers\")\n",
        "kilometers = 7\n",
        "miles = kilometers * 0.621371\n",
        "print (miles)"
      ],
      "metadata": {
        "colab": {
          "base_uri": "https://localhost:8080/"
        },
        "id": "_s93HdiYdS7L",
        "outputId": "4b903c49-96ab-4313-d88c-64f11d24ed52"
      },
      "execution_count": null,
      "outputs": [
        {
          "output_type": "stream",
          "name": "stdout",
          "text": [
            "edit the kilometers\n",
            "4.349597\n"
          ]
        }
      ]
    },
    {
      "cell_type": "code",
      "source": [
        "print (\"enter temp in celsius\")\n",
        "celcius = 30\n",
        "fahrenheit = celcius * 1.8 + 32\n",
        "print (fahrenheit)"
      ],
      "metadata": {
        "colab": {
          "base_uri": "https://localhost:8080/"
        },
        "id": "4-YOEy_7fmKx",
        "outputId": "8d1e242c-b5b2-4097-9848-a82c70a2ef66"
      },
      "execution_count": null,
      "outputs": [
        {
          "output_type": "stream",
          "name": "stdout",
          "text": [
            "enter temp in celsius\n",
            "86.0\n"
          ]
        }
      ]
    },
    {
      "cell_type": "code",
      "source": [
        "#101101000\n",
        "answer = (0)+(0)+(0)+(1*2**3)+(0*2**4)+(1*2**5)+(1*2**6)+(0*2**7)+(1*2**8)\n",
        "print (\"10110100 in desimal is \"+str(answer))"
      ],
      "metadata": {
        "colab": {
          "base_uri": "https://localhost:8080/"
        },
        "id": "1hR0CAp2s3oJ",
        "outputId": "c766d4f1-e7e1-4e68-86e0-04d9527420fe"
      },
      "execution_count": 18,
      "outputs": [
        {
          "output_type": "stream",
          "name": "stdout",
          "text": [
            "10110100 in desimal is 360\n"
          ]
        }
      ]
    }
  ]
}